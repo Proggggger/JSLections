{
 "cells": [
  {
   "cell_type": "markdown",
   "metadata": {},
   "source": [
    "# Створення backend частини веб-застосунку"
   ]
  },
  {
   "cell_type": "markdown",
   "metadata": {},
   "source": [
    "### Підготовка до виконання лабораторної роботи\n",
    "\n",
    "В першу чергу треба встановити базу даних, (для виконання лабораторної роботи пропонується використання реляційної бази даних mysql або postgresql)."
   ]
  },
  {
   "cell_type": "markdown",
   "metadata": {},
   "source": [
    "## Розгортання NodeJS проекту\n",
    "\n",
    "Перш ніж встановлювати пакети для проекту треба ініціалізувати порожній каталог як проект NodeJS наступною командою:\n",
    "\n",
    "**_npm init_**\n",
    "\n",
    "виконання такої команди створить файли необхідні для правильного розгортання та перенесення проекта та каталог node_modules в який встановлюються та зберігаються потрібні для роботи проекту модулі.\n",
    "\n",
    "Одним з головних модулів для нашого проекту є модуль **_express_** який і відповідає за створення серверної частини нашого застосунка. ВСтановлюється модуль командою:\n",
    "\n",
    "**_npm add express_**\n",
    "\n",
    "Наступним кроком буде встановлення  **_sequelize_**"
   ]
  },
  {
   "cell_type": "markdown",
   "metadata": {},
   "source": [
    "### Встановлення ORM"
   ]
  },
  {
   "cell_type": "markdown",
   "metadata": {},
   "source": [
    "Як вже зазначалося в лекції  - в якості ORM будемо використовувати  модуль  sequelize. для його встановлення треба виконати такі команди:"
   ]
  },
  {
   "cell_type": "markdown",
   "metadata": {},
   "source": [
    "**_npm add sequelize_**\n",
    "\n",
    "Для MySQL:\n",
    "\n",
    "**_npm add mysql2_**\n",
    "\n",
    "Для PostgreSQL:\n",
    "\n",
    "**_npm add pg pg-hstore_**"
   ]
  },
  {
   "cell_type": "raw",
   "metadata": {},
   "source": [
    "Ініціалізація бази даних в коді:\n",
    "\n",
    "const sequelize = new Sequelize('db_name', 'db_username', 'db_password', {\n",
    "  host: 'localhost',\n",
    "  dialect: 'mysql'\n",
    "});"
   ]
  },
  {
   "cell_type": "markdown",
   "metadata": {},
   "source": [
    "# Завдання:\n",
    "\n",
    "Завдання на данну лабораторну роботу включає в себе створення моделей що передають основні сутності веб-застосунку (зазвичай застосунок має близько 3 сутностей,  тому лабораторну роботу можна виконувати невеликими групами до 3 людей) і встановлюють звёязки між ними. Також треба написати api для запиту, додавання або зміни та видалення  сутностей."
   ]
  },
  {
   "cell_type": "code",
   "execution_count": null,
   "metadata": {},
   "outputs": [],
   "source": []
  }
 ],
 "metadata": {
  "kernelspec": {
   "display_name": "Javascript (Node.js)",
   "language": "javascript",
   "name": "javascript"
  },
  "language_info": {
   "file_extension": ".js",
   "mimetype": "application/javascript",
   "name": "javascript",
   "version": "8.11.2"
  }
 },
 "nbformat": 4,
 "nbformat_minor": 2
}
