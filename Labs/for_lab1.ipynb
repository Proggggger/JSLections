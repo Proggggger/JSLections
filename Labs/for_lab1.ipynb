{
 "cells": [
  {
   "cell_type": "markdown",
   "metadata": {},
   "source": [
    "https://stackoverflow.com/questions/11773225/push-data-into-an-array-with-pair-values\n",
    "https://gist.github.com/branneman/e26f2339b705cff557e6\n",
    "http://reactivex.io/learnrx/\n",
    "https://www.codingame.com/playgrounds/2980/practical-introduction-to-functional-programming-with-js/pure-functions\n",
    "https://github.com/InceptionCode/Functional-Programming-Exercises/tree/master/Mostly-Adequate\n",
    "https://ramdajs.com/"
   ]
  },
  {
   "cell_type": "code",
   "execution_count": null,
   "metadata": {},
   "outputs": [],
   "source": []
  },
  {
   "cell_type": "markdown",
   "metadata": {},
   "source": [
    "Спочатку попрактикуємось зі структурою типу \"пара\". Пара - структура даннних що містить  тільки два елементи, ала кожен елемент може містити як скалярне значення так і іншу пару\n",
    "\n",
    "наприклад:\n",
    "\n",
    "**(1, 2)** - пара що містить значення 1 та 2\n",
    "\n",
    "**(1, (2, 3))** - другим елементом цієї пари є інша пара\n",
    "\n",
    "за парадигмою функційного програмування змінювати стан структури не можна.\n",
    "значення з пари отримуються за допомого гетерів **fst**, **snd** - для першого та другого елементів відповідно"
   ]
  },
  {
   "cell_type": "markdown",
   "metadata": {},
   "source": [
    "### Завдання1\n",
    "доповнити написаний нижче код класу що реалізує структуру пара"
   ]
  },
  {
   "cell_type": "code",
   "execution_count": 7,
   "metadata": {},
   "outputs": [
    {
     "ename": "SyntaxError",
     "evalue": "Identifier 'Pair' has already been declared",
     "output_type": "error",
     "traceback": [
      "evalmachine.<anonymous>:1",
      "class Pair {",
      "^",
      "",
      "SyntaxError: Identifier 'Pair' has already been declared",
      "    at evalmachine.<anonymous>:1:1",
      "    at ContextifyScript.Script.runInThisContext (vm.js:50:33)",
      "    at Object.runInThisContext (vm.js:139:38)",
      "    at run ([eval]:1002:15)",
      "    at onRunRequest ([eval]:829:18)",
      "    at onMessage ([eval]:789:13)",
      "    at emitTwo (events.js:126:13)",
      "    at process.emit (events.js:214:7)",
      "    at emit (internal/child_process.js:772:12)",
      "    at _combinedTickCallback (internal/process/next_tick.js:141:11)"
     ]
    }
   ],
   "source": [
    "class Pair {\n",
    "    constructor(fst, snd){\n",
    "        if (this instanceof Pair) {\n",
    "            if (Array.isArray(fst) && fst.length === 2 && typeof snd == 'undefined') {\n",
    "              this[0] = fst[0];\n",
    "              this[1] = fst[1];\n",
    "            } else {\n",
    "              this[0] = fst;\n",
    "              this[1] = snd;\n",
    "            }\n",
    "            this.length = 2;\n",
    "        } else {\n",
    "            return new Pair(fst, snd);\n",
    "        }\n",
    "        }\n",
    "    \n",
    "    \n",
    "      //TODO write getter for first element of pair \"fst\"\n",
    "     //TODO write getter for second element of pair \"snd\"\n",
    "    \n",
    "    \n",
    "    //static of(fst, snd){\n",
    "       //TODO static method (function) of, which returns pair from values\n",
    "   // }\n",
    "   \n",
    "      get fst(){\n",
    "          return this[0];\n",
    "      }\n",
    "\n",
    "      get snd(){\n",
    "          return this[1];\n",
    "      }    \n",
    "    \n",
    "     //TODO write getter for second element of pair \"snd\"\n",
    "    \n",
    "    \n",
    "    static of(fst, snd){\n",
    "        return new Pair(fst,snd);\n",
    "       //TODO static method (function) of, which returns pair from values\n",
    "    }\n",
    "    \n",
    "    static fst(pair){\n",
    "         return pair.fst;\n",
    "       //TODO static method (function) of, which returns pair from values\n",
    "    }\n",
    "    static snd(pair){\n",
    "        return pair.snd;\n",
    "       //TODO static method (function) of, which returns pair from values\n",
    "    }\n",
    "}\n"
   ]
  },
  {
   "cell_type": "code",
   "execution_count": 8,
   "metadata": {},
   "outputs": [],
   "source": [
    "//use this to test if your pair is working\n",
    "a = new Pair(2,3);\n",
    "if ((a.fst !=2)|| (a.snd !=3)) {console.log(\"Error, Pair does not works as needed\")}\n",
    "b = new Pair(a,a);\n",
    "if ((b.fst.snd !=3)|| (b.snd.fst !=2)) {console.log(\"Error, Pair does not works as needed\")}\n"
   ]
  },
  {
   "cell_type": "markdown",
   "metadata": {},
   "source": [
    "Гетери дозволяють отримувати знаення з обєктів, але для функційного програмування виклик  методів об’єкта не підходить\n",
    "\n",
    "Треба створити функції (подальший код розрахований на реалізацію у вигляді статичних метоів класу) що дублюють функціонал двох гетерів (для чтого це потрібно побачите пізніше)"
   ]
  },
  {
   "cell_type": "code",
   "execution_count": null,
   "metadata": {},
   "outputs": [],
   "source": []
  },
  {
   "cell_type": "markdown",
   "metadata": {},
   "source": [
    "Підключимо бібліотеку для функційного програмування - вона містить деякі потрібні нам функції, як ми не будемо зараз реалізовувати для економії часу"
   ]
  },
  {
   "cell_type": "code",
   "execution_count": 3,
   "metadata": {},
   "outputs": [],
   "source": [
    "//for installation\n",
    "// npm install ramda"
   ]
  },
  {
   "cell_type": "code",
   "execution_count": 4,
   "metadata": {},
   "outputs": [],
   "source": [
    "const R = require('ramda');"
   ]
  },
  {
   "cell_type": "code",
   "execution_count": 5,
   "metadata": {},
   "outputs": [
    {
     "name": "stdout",
     "output_type": "stream",
     "text": [
      "[ [ 'a', 1 ],\n",
      "  [ 'b', 2 ],\n",
      "  [ 'c', 3 ],\n",
      "  [ 'd', 4 ],\n",
      "  [ 'e', 5 ],\n",
      "  [ 'f', 6 ],\n",
      "  [ 'g', 7 ] ]\n"
     ]
    }
   ],
   "source": [
    "var zipped = R.zip([\"a\", \"b\", \"c\",\"d\",\"e\", \"f\", \"g\"], [1,2,3,4,5,6,7])\n",
    "console.log(zipped);"
   ]
  },
  {
   "cell_type": "markdown",
   "metadata": {},
   "source": [
    "3 головні функції для маніпулювання данними :\n",
    "map(), reduce(), filter() ці функції доступні як методи класу array, але в нашому випадку зручніше використовувати функціональну обгортку для цих методів\n",
    "\n",
    "map () бере callback і пускає його по всіх елементах масиву, він генерує новий масив, грунтуючись на існуючому масиві.\n",
    "\n",
    "reduce () Як можна вже припустити з назви, цей метод використовується для того, щоб скоротити масив в одне просте значення.\n",
    "\n",
    "filter () дає вам зробити callback для кожного елемента і повернути відфільтрований масив.\n",
    "\n",
    "детальніше:\n",
    "https://medium.com/@stasonmars/%D0%BE%D0%B1%D1%8A%D1%8F%D1%81%D0%BD%D1%8F%D0%B5%D0%BC-%D0%BC%D0%B5%D1%82%D0%BE%D0%B4%D1%8B-%D0%B2-%D0%BC%D0%B0%D1%81%D1%81%D0%B8%D0%B2%D0%B0%D1%85-js-filter-vs-map-vs-reduce-vs-foreach-995ef7468c4a"
   ]
  },
  {
   "cell_type": "markdown",
   "metadata": {},
   "source": [
    "Простий приклад використання цих функцій"
   ]
  },
  {
   "cell_type": "code",
   "execution_count": 12,
   "metadata": {},
   "outputs": [
    {
     "name": "stdout",
     "output_type": "stream",
     "text": [
      "[ Pair { '0': 'a', '1': 1, length: 2 },\n",
      "  Pair { '0': 'b', '1': 2, length: 2 },\n",
      "  Pair { '0': 'c', '1': 3, length: 2 },\n",
      "  Pair { '0': 'd', '1': 4, length: 2 },\n",
      "  Pair { '0': 'e', '1': 5, length: 2 },\n",
      "  Pair { '0': 'f', '1': 6, length: 2 },\n",
      "  Pair { '0': 'g', '1': 7, length: 2 } ]\n",
      "[ 1, 2, 3, 4, 5, 6, 7 ]\n",
      "[ 1, 2, 3, 4, 5, 6, 7 ]\n",
      "[ Pair { '0': 'a', '1': 1, length: 2 },\n",
      "  Pair { '0': 'b', '1': 2, length: 2 },\n",
      "  Pair { '0': 'd', '1': 4, length: 2 },\n",
      "  Pair { '0': 'e', '1': 5, length: 2 },\n",
      "  Pair { '0': 'f', '1': 6, length: 2 },\n",
      "  Pair { '0': 'g', '1': 7, length: 2 } ]\n",
      "abdefg\n",
      "25\n"
     ]
    }
   ],
   "source": [
    "var zipped_pairs = R.map(Pair.of,zipped)\n",
    "console.log(zipped_pairs);\n",
    "console.log(R.map(Pair.snd, zipped_pairs)) //map example\n",
    "console.log(R.map(pair=>pair.snd, zipped_pairs))\n",
    "console.log(R.filter(p=>Pair.snd(p) !=3, zipped_pairs)) //filter example (now we have all elements exept third)\n",
    "var no_third = R.filter(p=>Pair.snd(p) !=3, zipped_pairs);\n",
    "console.log(R.reduce((acc, el)=>acc+Pair.fst(el),\"\", no_third)) //reduce example - we concatenate all array elements\n",
    "console.log(R.reduce((acc, el)=>acc+Pair.snd(el),0, no_third))"
   ]
  },
  {
   "cell_type": "markdown",
   "metadata": {},
   "source": [
    "### Завдання 2 \n",
    "Створіть клас, що відображає об’єкт (зберігайте об’єкт у вигляді пар (в реальних проектах так робити не слід, але в даному випадку це допоможе навчитись правильно комбінувати виклики функцій))\n",
    "\n",
    "об’єкт має містити як мінімум 4 поля і хочаб одне з них числове (можливий будь який об’єкт, (кожному студенту придумати свій варіант об’єкта))\n",
    "\n",
    "далі створити масив з кількох таких об’єктів.\n",
    "\n",
    "**!!! Не користуючись стандартними циклами:**\n",
    "\n",
    "-- вивести на екран об’єкти повністю, та по два головних для об’єкта поля (на вибір студента)\n",
    "    \n",
    "-- відфільтрувати об’єкти зі створеного списка за певною ознакою (на вибір студента)\n",
    "\n",
    "-- порахувати середнє значення для поля з числовим значенням, та середню або максимальну кількість літер для рядкового поля\n",
    "\n"
   ]
  },
  {
   "cell_type": "code",
   "execution_count": null,
   "metadata": {},
   "outputs": [],
   "source": [
    "class Car{\n",
    "    constructor(model, year, color, weight){\n",
    "        this.car = new Pair(new Pair(model, year),new Pair(color, weight));\n",
    "    }\n",
    "    get year(){\n",
    "        return this.car.fst.snd;\n",
    "    }\n",
    "}"
   ]
  }
 ],
 "metadata": {
  "kernelspec": {
   "display_name": "Javascript (Node.js)",
   "language": "javascript",
   "name": "javascript"
  },
  "language_info": {
   "file_extension": ".js",
   "mimetype": "application/javascript",
   "name": "javascript",
   "version": "8.11.2"
  }
 },
 "nbformat": 4,
 "nbformat_minor": 2
}
