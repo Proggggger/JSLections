{
 "cells": [
  {
   "cell_type": "markdown",
   "metadata": {},
   "source": [
    "# Javascript - базовий синтаксис"
   ]
  },
  {
   "cell_type": "markdown",
   "metadata": {},
   "source": [
    "JavaScript (JS) — динамічна, об'єктно-орієнтована прототипна мова програмування. Реалізація стандарту ECMAScript. Найчастіше використовується для створення сценаріїв веб-сторінок, що надає можливість на стороні клієнта (пристрої кінцевого користувача) взаємодіяти з користувачем, керувати браузером, асинхронно обмінюватися даними з сервером, змінювати структуру та зовнішній вигляд веб-сторінки.\n",
    "\n",
    "JavaScript класифікують як прототипну (підмножина об'єктно-орієнтованої), скриптову мову програмування з динамічною типізацією. Окрім прототипної, JavaScript також частково підтримує інші парадигми програмування (імперативну та частково функціональну) і деякі відповідні архітектурні властивості, зокрема: динамічна та слабка типізація, автоматичне керування пам'яттю, прототипне наслідування, функції як об'єкти першого класу. "
   ]
  },
  {
   "cell_type": "code",
   "execution_count": 4,
   "metadata": {},
   "outputs": [
    {
     "name": "stdout",
     "output_type": "stream",
     "text": [
      "Hello world\n"
     ]
    }
   ],
   "source": [
    "console.log(\"Hello world\")"
   ]
  },
  {
   "cell_type": "markdown",
   "metadata": {},
   "source": [
    "**Javascript** - мова з динамічною типізацією, явно вказувати тип змінної не треба - він буде визначений автоматично"
   ]
  },
  {
   "cell_type": "markdown",
   "metadata": {},
   "source": [
    "## Типи данних в Javascript"
   ]
  },
  {
   "cell_type": "markdown",
   "metadata": {},
   "source": [
    "### Число «number»"
   ]
  },
  {
   "cell_type": "markdown",
   "metadata": {},
   "source": [
    "Числа зберігаються в 64 бітному форматі \"подвійна точність\"\n",
    "\n",
    "Записувати числа можна в десятковій системі **123.456**, шістнадцятковій **0x1AF** та у форматі з плавоючою комою **2e455**\n",
    "    \n",
    "Існують спеціальні значення чисел **Infinity** (нескінченність) та **NaN** (Не число). Нескінченність має властивості математичної нескінченності (більше будь-якого числа, але в данному випадку слід враховувати максимально можливе число, додавання до безмежності не змінює її). \"Не число\" використовується для позначенння математичних помилок. Будь-яка операція  з NaN дає в результаті NaN. при цьому NaN не дорівнює нічому, навіть самому собі."
   ]
  },
  {
   "cell_type": "code",
   "execution_count": 6,
   "metadata": {},
   "outputs": [
    {
     "name": "stdout",
     "output_type": "stream",
     "text": [
      "type is number\n",
      "Infinity\n",
      "NaN\n",
      "Infinity\n",
      "Infinity\n",
      "-Infinity\n",
      "NaN\n",
      "true\n",
      "false\n"
     ]
    }
   ],
   "source": [
    "var n = 123;\n",
    "n = 12.345;\n",
    "console.log(\"type is \" +typeof(n));\n",
    "console.log(n/0); //this result will be infinity because division by zero\n",
    "console.log(\"test string\"*3); //this result will be NaN because ncorrect math operation\n",
    "n=1.2e600\n",
    "console.log(n)//Very large nuber also will be infinity\n",
    "var x = Infinity; //we can assign infinity directly, it will work just like in math\n",
    "console.log(x)\n",
    "\n",
    "//Now some strange things\n",
    "console.log(-3/0); //this result will be -Infinity because division by zero\n",
    "console.log(0/0); //this will e NaN because this operation in math is undefined\n",
    "console.log(Infinity === Infinity)\n",
    "console.log(NaN==NaN)"
   ]
  },
  {
   "cell_type": "code",
   "execution_count": 10,
   "metadata": {},
   "outputs": [
    {
     "name": "stdout",
     "output_type": "stream",
     "text": [
      "n = NaN!\n",
      "true\n",
      "false\n",
      "true\n",
      "false\n",
      "false\n"
     ]
    }
   ],
   "source": [
    "//checking for NaN\n",
    "//simple but not recomended\n",
    "var n = 0 / 0;\n",
    "if (n !== n) console.log( 'n = NaN!' );\n",
    "//correct way is to use isNAN() function\n",
    "console.log(isNaN(NaN)) //isNaN returns true if value is NaN\n",
    "console.log(isNaN(10))\n",
    "\n",
    "\n",
    "\n",
    "\n",
    "//Checking for Infinity\n",
    "//isFinite() returns true if argument is finite number\n",
    "console.log( isFinite(1) ); // true\n",
    "console.log( isFinite(Infinity) ); // false\n",
    "console.log( isFinite(NaN) ); // false"
   ]
  },
  {
   "cell_type": "markdown",
   "metadata": {},
   "source": [
    "**Математичні операції в _Javascript_  безпечні - жодна з математичних операцій не може призвести до \"падіння\" програми, в найгіршому випадку отримаємо результат _NaN_**"
   ]
  },
  {
   "cell_type": "markdown",
   "metadata": {},
   "source": [
    "### Перетворення в число"
   ]
  },
  {
   "cell_type": "code",
   "execution_count": 13,
   "metadata": {},
   "outputs": [
    {
     "name": "stdout",
     "output_type": "stream",
     "text": [
      "type of s if string\n",
      "type of sn if number\n",
      "NaN\n",
      "12\n",
      "12.3\n"
     ]
    }
   ],
   "source": [
    "//The simplest way is to set \"+\" before variable or value, but not safe\n",
    "// if string is not exactly a number (excluding spaces) we get NaN\n",
    "var s = \"12.34\";\n",
    "var sn = +s; // 12.34\n",
    "console.log(\"type of s if \" +typeof(s))\n",
    "console.log(\"type of sn if \" +typeof(sn))\n",
    "console.log(+\"12.34e\")//NaN because \"12.34e\" is not exactly a number\n",
    "\n",
    "//parseInt and parseFloat - safe way for number parsing, can work with not exactly numbers\n",
    "console.log( parseInt('12px') ) // 12, error on 'p'\n",
    "console.log( parseFloat('12.3.4') ) // 12.3, error on second point"
   ]
  },
  {
   "cell_type": "markdown",
   "metadata": {},
   "source": [
    "### Детальніше про числа в Javascript\n",
    "https://learn.javascript.ru/number\n",
    "### _ _ _ _ _ _ _ _ _ _ _ _ _ _ _ _ _ _ _ _ _ _ _ _ _ _ _ _"
   ]
  },
  {
   "cell_type": "markdown",
   "metadata": {},
   "source": [
    "## Рядок String"
   ]
  },
  {
   "cell_type": "code",
   "execution_count": null,
   "metadata": {},
   "outputs": [],
   "source": [
    "Тип лапок (одинарні чи подвійні) не грає ролі, головне щоб були однакові на початку та в кінці рядка.\n",
    "\n",
    "Символьного типу в Javascript не існує, існують тільки рядки.\n",
    "\n",
    "Спеціальні символи для використання в рядках треба екранувати"
   ]
  },
  {
   "cell_type": "code",
   "execution_count": 15,
   "metadata": {},
   "outputs": [
    {
     "name": "stdout",
     "output_type": "stream",
     "text": [
      "Мама мыла раму\n",
      "Одинарные кавычки тоже подойдут\n",
      " Really \"test\" string\n",
      " Really 'test' string \\ \n"
     ]
    },
    {
     "data": {
      "text/plain": [
       "'string'"
      ]
     },
     "execution_count": 15,
     "metadata": {},
     "output_type": "execute_result"
    }
   ],
   "source": [
    "var str = \"Мама мыла раму\";\n",
    "console.log(str);\n",
    "str = 'Одинарные кавычки тоже подойдут';\n",
    "console.log(str);\n",
    "str = ' Really \"test\" string';\n",
    "console.log(str);\n",
    "str = ' Really \\'test\\' string \\\\ ';//here we need escaping\n",
    "console.log(str);\n",
    "\n",
    "//number can be converted to string with toString() method\n",
    "typeof(n.toString()) //as you remember few cells upper n was a number"
   ]
  },
  {
   "cell_type": "markdown",
   "metadata": {},
   "source": [
    "### Детальніше про рядки\n",
    "https://learn.javascript.ru/string\n",
    "### _ _ _ _ _ _ _ _ _ _ _ _ _ _ _ _ _ _ _ _ _ _ _ _ _ _ _ _"
   ]
  },
  {
   "cell_type": "markdown",
   "metadata": {},
   "source": [
    "## Булевий (логічний) тип «boolean»"
   ]
  },
  {
   "cell_type": "markdown",
   "metadata": {},
   "source": [
    "Може приймати одне з двох значень - **_true_** або **_false_**"
   ]
  },
  {
   "cell_type": "markdown",
   "metadata": {},
   "source": [
    "## Спеціальне значення **null**"
   ]
  },
  {
   "cell_type": "markdown",
   "metadata": {},
   "source": [
    "Не відносиься до жодного з вищеперелічених типів, а утворює власний тип з єдиним значенням **_null_** - що має зміст \"значення невідоме\""
   ]
  },
  {
   "cell_type": "markdown",
   "metadata": {},
   "source": [
    "## Спеціальне значення **undefined**"
   ]
  },
  {
   "cell_type": "markdown",
   "metadata": {},
   "source": [
    "Не відносиься до жодного з вищеперелічених типів, а утворює власний тип з єдиним значенням **_undefined_** - що має зміст \"значення неприсвоєне\""
   ]
  },
  {
   "cell_type": "code",
   "execution_count": 18,
   "metadata": {},
   "outputs": [
    {
     "name": "stdout",
     "output_type": "stream",
     "text": [
      "undefined\n",
      "undefined\n"
     ]
    }
   ],
   "source": [
    "var zzz\n",
    "console.log(zzz)\n",
    "console.log(typeof(zzz))"
   ]
  },
  {
   "cell_type": "markdown",
   "metadata": {},
   "source": [
    "## Об'єкт object"
   ]
  },
  {
   "cell_type": "markdown",
   "metadata": {},
   "source": [
    "Об’єкти обявляються за домпомогою фігурних дужок  _{...}_ або шляхом виклику конструктора _new Object()_"
   ]
  },
  {
   "cell_type": "code",
   "execution_count": 12,
   "metadata": {},
   "outputs": [
    {
     "name": "stdout",
     "output_type": "stream",
     "text": [
      "{ name: 'Вася' }\n",
      "{ name: 'Vasya' }\n",
      "{ name: 'Vasya', age: 25 }\n",
      "{ name: 'Vasya' }\n",
      "userr2 has name\n",
      "undefined\n",
      "Vasya\n"
     ]
    }
   ],
   "source": [
    "var userr = { name: \"Вася\" };\n",
    "var userr2 = new Object(); // on this stage object is empty\n",
    "userr2.name = \"Vasya\";// now we set name field with it's value\n",
    "console.log(userr);\n",
    "console.log(userr2);\n",
    "userr2.age = 25;\n",
    "console.log(userr2);\n",
    "delete userr2.age;//we also can delete property from object\n",
    "console.log(userr2);\n",
    "\n",
    "\n",
    "//checking for property in object\n",
    "if (\"name\" in userr2){\n",
    "    console.log( \"userr2 has name\");\n",
    "}\n",
    "if (\"age\" in userr2){\n",
    "    console.log( \"userr2 has age\");\n",
    "}\n",
    "\n",
    "console.log(userr2.age); //we can access property if it does not exist - we will get undefined\n",
    "console.log(userr2['name']); //also properties can be accessed as array elements with []"
   ]
  },
  {
   "cell_type": "markdown",
   "metadata": {},
   "source": [
    "Передача за значенням та за посиланням\n",
    "Прості типи при присвоєнні повністю копіються\n",
    "об’єкти ж передаються за посиланням - тобто змінна не зберігає сам об’єкт, а зберігає лише посилання, тому при присвоєнні об’єкта іншій змінній, вона отримує те ж саме посилання на об’єкт"
   ]
  },
  {
   "cell_type": "code",
   "execution_count": 15,
   "metadata": {},
   "outputs": [
    {
     "name": "stdout",
     "output_type": "stream",
     "text": [
      "Hello world\n",
      "{ name: 'Vasya', age: 25 }\n",
      "{ name: 'Vasya', age: 25 }\n"
     ]
    }
   ],
   "source": [
    "var scalar1 = \"Hello\";\n",
    "var scalar2 = scalar1;\n",
    "scalar1 = \"world\";\n",
    "console.log(scalar2 + \" \" + scalar1); \n",
    "var userr3 = userr2;\n",
    "userr2.age=25\n",
    "console.log(userr2); \n",
    "console.log(userr3); "
   ]
  },
  {
   "cell_type": "code",
   "execution_count": 18,
   "metadata": {},
   "outputs": [
    {
     "name": "stdout",
     "output_type": "stream",
     "text": [
      "Вася\n",
      "Петя\n"
     ]
    }
   ],
   "source": [
    "//making fully independent copy of object\n",
    "var userr4 = {\n",
    "  name: \"Вася\",\n",
    "  age: 30\n",
    "};\n",
    "\n",
    "var clone = {}; // новый пустой объект\n",
    "\n",
    "// скопируем в него все свойства user\n",
    "for (var key in userr4) {\n",
    "  clone[key] = userr4[key];\n",
    "}\n",
    "\n",
    "// теперь clone - полностью независимая копия\n",
    "clone.name = \"Петя\"; // поменяли данные в clone\n",
    "\n",
    "console.log( userr4.name ); // по-прежнему \"Вася\"\n",
    "console.log( clone.name ); "
   ]
  },
  {
   "cell_type": "markdown",
   "metadata": {},
   "source": [
    "### Детальніше про об’єкти\n",
    "https://learn.javascript.ru/object\n",
    "### _ _ _ _ _ _ _ _ _ _ _ _ _ _ _ _ _ _ _ _ _ _ _ _ _ _ _ _"
   ]
  },
  {
   "cell_type": "markdown",
   "metadata": {},
   "source": [
    "Об'явлення змінних \n",
    "\n",
    "**_var_** - Застарілий варіант. Змінна об'являється в межах функції (ES5)\n",
    "\n",
    "**_let_** -  Змінна об'являється в межах блоку (ES6)\n",
    "\n",
    "**_const_** - Об'являє константу (ES6)\n"
   ]
  },
  {
   "cell_type": "code",
   "execution_count": 1,
   "metadata": {},
   "outputs": [
    {
     "name": "stdout",
     "output_type": "stream",
     "text": [
      "block c = 2\n",
      "block d = 3\n",
      "block e = 4\n",
      "block f = 5\n",
      "block a = 0\n",
      "block b = 1\n",
      "f = 5\n",
      "function> ReferenceError: e is not defined\n",
      "outside> ReferenceError: c is not defined\n",
      "outside> ReferenceError: d is not defined\n",
      "outside a = 0\n",
      "outside b = 1\n"
     ]
    }
   ],
   "source": [
    "var a = 0 //global var declaration\n",
    "let b = 1 //global let declaration\n",
    "\n",
    "\n",
    "function example(){\n",
    "    var c = 2 //var inside function\n",
    "    let d = 3\n",
    "    \n",
    "    if (c>=0){\n",
    "        let e = 4 //let inside a block deeper in function\n",
    "        var f = 5 //var inside a block deeper in fucntion\n",
    "        console.log(\"block c = \" + c) //c still available\n",
    "        console.log(\"block d = \" + d) //d  available\n",
    "        console.log(\"block e = \" + e) //e  available\n",
    "        console.log(\"block f = \" + f) //f  available\n",
    "        console.log(\"block a = \" + a) \n",
    "        console.log(\"block b = \" + b)\n",
    "    }\n",
    "    console.log(\"f = \" + f) //wow, f still available\n",
    "    try{\n",
    "        console.log(\"e = \" + e) //but e is not available as we expect\n",
    "    }catch(e){console.log(\"function> \"+ e)}\n",
    "}\n",
    "example()\n",
    "\n",
    "\n",
    "try{\n",
    "    console.log(\"outside c = \" + c) //c not available\n",
    "}catch(e){console.log(\"outside> \"+e)}\n",
    "try{\n",
    "    console.log(\"outside d = \" + d) //d not available\n",
    "}catch(e){console.log(\"outside> \"+e)}\n",
    "console.log(\"outside a = \" + a)  //global variables are available as expected\n",
    "console.log(\"outside b = \" + b) //global variables are available as expected"
   ]
  },
  {
   "cell_type": "code",
   "execution_count": 2,
   "metadata": {},
   "outputs": [
    {
     "name": "stdout",
     "output_type": "stream",
     "text": [
      "0\n",
      "TypeError: Assignment to constant variable.\n",
      "    at evalmachine.<anonymous>:4:4\n",
      "    at ContextifyScript.Script.runInThisContext (vm.js:50:33)\n",
      "    at Object.runInThisContext (vm.js:139:38)\n",
      "    at run ([eval]:1002:15)\n",
      "    at onRunRequest ([eval]:829:18)\n",
      "    at onMessage ([eval]:789:13)\n",
      "    at emitTwo (events.js:126:13)\n",
      "    at process.emit (events.js:214:7)\n",
      "    at emit (internal/child_process.js:772:12)\n",
      "    at _combinedTickCallback (internal/process/next_tick.js:141:11)\n",
      "0\n",
      "0\n",
      "42\n"
     ]
    }
   ],
   "source": [
    "const ac = 0\n",
    "console.log(ac)\n",
    "try{\n",
    "ac = 42\n",
    "}catch(e){console.log(e)}\n",
    "console.log(ac) // ac still 0, we can't change it\n",
    "console.log(\"Ok, Now let's try this with LET\")\n",
    "let bnc = 0\n",
    "console.log(bnc)\n",
    "try{\n",
    "bnc = 42\n",
    "}catch(e){console.log(e)}\n",
    "console.log(bnc) // bnc changed"
   ]
  },
  {
   "cell_type": "markdown",
   "metadata": {},
   "source": [
    "**_let_** та **_const_** не можуть бути переоб'явленими - дозволяє захистити код від перевизначення\n",
    "**_var_** можна переоб'явити, використовувати **_var_** без необхідності не бажаноб хоча й допустимо для невеликих скриптів (**_let_** та **_const_** не підтримуються старими браузерами) \n",
    "\n",
    "Слід зазначити що якщо константі присвоїти об’єкт, то захищеною буде лише сама константа, а не поля в ній."
   ]
  },
  {
   "cell_type": "code",
   "execution_count": 1,
   "metadata": {},
   "outputs": [
    {
     "name": "stdout",
     "output_type": "stream",
     "text": [
      "{ name: 'Вася' }\n",
      "{ name: 'Петя' }\n",
      "TypeError: Assignment to constant variable.\n",
      "    at evalmachine.<anonymous>:9:10\n",
      "    at ContextifyScript.Script.runInThisContext (vm.js:50:33)\n",
      "    at Object.runInThisContext (vm.js:139:38)\n",
      "    at run ([eval]:1002:15)\n",
      "    at onRunRequest ([eval]:829:18)\n",
      "    at onMessage ([eval]:789:13)\n",
      "    at emitTwo (events.js:126:13)\n",
      "    at process.emit (events.js:214:7)\n",
      "    at emit (internal/child_process.js:772:12)\n",
      "    at _combinedTickCallback (internal/process/next_tick.js:141:11)\n"
     ]
    }
   ],
   "source": [
    "const user = {\n",
    "  name: \"Вася\"\n",
    "};\n",
    "console.log(user)\n",
    "\n",
    "user.name = \"Петя\"; // допустимо\n",
    "console.log(user)\n",
    "try{\n",
    "    user = 5; // нельзя, будет ошибка\n",
    "    console.log(user)\n",
    "}catch(e){console.log(e)}"
   ]
  },
  {
   "cell_type": "markdown",
   "metadata": {},
   "source": [
    "## Функції\n",
    "\n",
    "Функції використовуються для повторення однакового набору дій для різних даних\n",
    "\n",
    "приклад об’явлення функції:"
   ]
  },
  {
   "cell_type": "code",
   "execution_count": 20,
   "metadata": {},
   "outputs": [
    {
     "name": "stdout",
     "output_type": "stream",
     "text": [
      "Привет всем присутствующим!\n",
      "Привет всем присутствующим!\n"
     ]
    }
   ],
   "source": [
    "function showMessage() {\n",
    "  console.log( 'Привет всем присутствующим!' );\n",
    "}\n",
    "showMessage();\n",
    "showMessage();"
   ]
  },
  {
   "cell_type": "markdown",
   "metadata": {},
   "source": [
    "Прямого механызму задання значень за замовчуванням немає, але аргументи які не передані мають значення **_undefined_**, завдяки чому ми можемо відслідкувати непередані аргументи і присвоїти їм знчення в коді"
   ]
  },
  {
   "cell_type": "code",
   "execution_count": 21,
   "metadata": {},
   "outputs": [
    {
     "name": "stdout",
     "output_type": "stream",
     "text": [
      "Маша: Привет!\n",
      "Маша: текст не передан\n"
     ]
    }
   ],
   "source": [
    "function showMessage(from, text) {\n",
    "  if (text === undefined) {\n",
    "    text = 'текст не передан';\n",
    "  }\n",
    "\n",
    "  console.log( from + \": \" + text );\n",
    "}\n",
    "\n",
    "showMessage(\"Маша\", \"Привет!\"); // Маша: Привет!\n",
    "showMessage(\"Маша\"); // Маша: текст не передан"
   ]
  },
  {
   "cell_type": "markdown",
   "metadata": {},
   "source": [
    "Також можна створити анонімну функцію, яка не має імені, але її можна передати в якості параметра або присвоїти змінній"
   ]
  },
  {
   "cell_type": "code",
   "execution_count": 26,
   "metadata": {},
   "outputs": [
    {
     "name": "stdout",
     "output_type": "stream",
     "text": [
      "test text\n",
      "test text 2\n"
     ]
    },
    {
     "data": {
      "text/plain": [
       "'test text 2---'"
      ]
     },
     "execution_count": 26,
     "metadata": {},
     "output_type": "execute_result"
    }
   ],
   "source": [
    "var f1 = function(text){     // ES5 way, looks better when asigning to variable, \n",
    "    console.log(text);\n",
    "}\n",
    "var f1_1 = function(text){     // ES5 way, looks better when asigning to variable, \n",
    "    return text+\"---\";\n",
    "}\n",
    "\n",
    "var f2 = (text) =>  console.log(text); //ES6 way, looks better as paramerer, better to use for short, one-line functions\n",
    "var f2_1 = (text) =>  text+\"---\";\n",
    "f1(\"test text\");\n",
    "f2(\"test text 2\");\n",
    "console.log(f1_1(\"test text\"));\n",
    "console.log(f2_1(\"test text 2\"));"
   ]
  },
  {
   "cell_type": "markdown",
   "metadata": {},
   "source": [
    "## Замикання"
   ]
  },
  {
   "cell_type": "code",
   "execution_count": null,
   "metadata": {},
   "outputs": [],
   "source": [
    "Функціїзберігають лексичний контекст в якому були створені"
   ]
  },
  {
   "cell_type": "code",
   "execution_count": null,
   "metadata": {},
   "outputs": [],
   "source": [
    "function makeCounter() {\n",
    "  var currentCount = 1;\n",
    "\n",
    "  return function() { // (**)\n",
    "    return currentCount++;\n",
    "  };\n",
    "}\n",
    "\n",
    "var counter = makeCounter(); // (*)\n",
    "\n",
    "// каждый вызов увеличивает счётчик и возвращает результат\n",
    "alert( counter() ); // 1\n",
    "alert( counter() ); // 2\n",
    "alert( counter() ); // 3\n",
    "\n",
    "// создать другой счётчик, он будет независим от первого\n",
    "var counter2 = makeCounter();\n",
    "alert( counter2() ); // 1"
   ]
  },
  {
   "cell_type": "markdown",
   "metadata": {},
   "source": [
    "## Цикли"
   ]
  },
  {
   "cell_type": "code",
   "execution_count": null,
   "metadata": {},
   "outputs": [],
   "source": [
    "Існує 3 типи циклів :"
   ]
  },
  {
   "cell_type": "code",
   "execution_count": 3,
   "metadata": {},
   "outputs": [
    {
     "name": "stdout",
     "output_type": "stream",
     "text": [
      "0\n",
      "1\n",
      "2\n"
     ]
    },
    {
     "data": {
      "text/plain": [
       "2"
      ]
     },
     "execution_count": 3,
     "metadata": {},
     "output_type": "execute_result"
    }
   ],
   "source": [
    "var i = 0;\n",
    "while (i < 3) {\n",
    "  console.log( i );\n",
    "  i++;\n",
    "}"
   ]
  },
  {
   "cell_type": "code",
   "execution_count": 4,
   "metadata": {},
   "outputs": [
    {
     "name": "stdout",
     "output_type": "stream",
     "text": [
      "0\n",
      "1\n",
      "2\n"
     ]
    },
    {
     "data": {
      "text/plain": [
       "2"
      ]
     },
     "execution_count": 4,
     "metadata": {},
     "output_type": "execute_result"
    }
   ],
   "source": [
    "var i = 0;\n",
    "do {\n",
    "  console.log( i );\n",
    "  i++;\n",
    "} while (i < 3);"
   ]
  },
  {
   "cell_type": "code",
   "execution_count": 5,
   "metadata": {},
   "outputs": [
    {
     "name": "stdout",
     "output_type": "stream",
     "text": [
      "0\n",
      "1\n",
      "2\n"
     ]
    }
   ],
   "source": [
    "var i;\n",
    "\n",
    "for (i = 0; i < 3; i++) {\n",
    "  console.log( i );\n",
    "}"
   ]
  },
  {
   "cell_type": "markdown",
   "metadata": {},
   "source": [
    "Для об’єктів у циклі можна перебирати пари ключ-значення:"
   ]
  },
  {
   "cell_type": "code",
   "execution_count": 7,
   "metadata": {},
   "outputs": [
    {
     "name": "stdout",
     "output_type": "stream",
     "text": [
      "Ключ: width значение: 300\n",
      "Ключ: height значение: 200\n",
      "Ключ: title значение: Menu\n"
     ]
    }
   ],
   "source": [
    "var menu = {\n",
    "  width: 300,\n",
    "  height: 200,\n",
    "  title: \"Menu\"\n",
    "};\n",
    "\n",
    "for (var key in menu) {\n",
    "  // этот код будет вызван для каждого свойства объекта\n",
    "  // ..и выведет имя свойства и его значение\n",
    "\n",
    "  console.log( \"Ключ: \" + key + \" значение: \" + menu[key] );\n",
    "}"
   ]
  },
  {
   "cell_type": "markdown",
   "metadata": {},
   "source": [
    "Для переривання циклу використовується **break**. можна також додати до **break** мітку щоб перервати зовнішній цикл при використанні вкладених циклів.\n",
    "\n",
    "Для продовження циклу служить директива **continue**, к і **break** підтримує мітки"
   ]
  },
  {
   "cell_type": "code",
   "execution_count": 14,
   "metadata": {},
   "outputs": [
    {
     "name": "stdout",
     "output_type": "stream",
     "text": [
      "Готово!\n"
     ]
    }
   ],
   "source": [
    "outer: for (var i = 0; i < 3; i++) {\n",
    "\n",
    "  for (var j = 0; j < 3; j++) {\n",
    "\n",
    "    var input = undefined//prompt('Значение в координатах '+i+','+j, '');\n",
    "\n",
    "    // если отмена ввода или пустая строка -\n",
    "    // завершить оба цикла\n",
    "    if (!input) break outer; // (*)\n",
    "    console.log(\"iteration\");\n",
    "  }\n",
    "}\n",
    "console.log('Готово!');"
   ]
  },
  {
   "cell_type": "markdown",
   "metadata": {},
   "source": [
    "## Умовні оператори"
   ]
  },
  {
   "cell_type": "code",
   "execution_count": 18,
   "metadata": {},
   "outputs": [
    {
     "name": "stdout",
     "output_type": "stream",
     "text": [
      "Да, точно в этом году!\n"
     ]
    }
   ],
   "source": [
    "//IF - ELSE\n",
    "\n",
    "//var year = prompt('В каком году появилась спецификация ECMA-262 5.1?', '');\n",
    "var year = 2011;\n",
    "if (year < 2011) {\n",
    "  console.log( 'Это слишком рано..' );\n",
    "} else if (year > 2011) {\n",
    "  console.log( 'Это поздновато..' );\n",
    "} else {\n",
    "  console.log( 'Да, точно в этом году!' );\n",
    "}"
   ]
  },
  {
   "cell_type": "code",
   "execution_count": 16,
   "metadata": {},
   "outputs": [
    {
     "data": {
      "text/plain": [
       "false"
      ]
     },
     "execution_count": 16,
     "metadata": {},
     "output_type": "execute_result"
    }
   ],
   "source": [
    "//условие ? значение1 : значение2\n",
    "var age=10;\n",
    "access = (age > 14) ? true : false;"
   ]
  },
  {
   "cell_type": "code",
   "execution_count": 20,
   "metadata": {},
   "outputs": [
    {
     "name": "stdout",
     "output_type": "stream",
     "text": [
      "В точку!\n"
     ]
    }
   ],
   "source": [
    "//Switch - Case\n",
    "var a = 2 + 2;\n",
    "\n",
    "switch (a) {\n",
    "  case 3:\n",
    "    console.log( 'Маловато' );\n",
    "    break;\n",
    "  case 4:\n",
    "    console.log( 'В точку!' );\n",
    "    break;\n",
    "  case 5:\n",
    "    console.log( 'Перебор' );\n",
    "    break;\n",
    "  default:\n",
    "    console.log( 'Я таких значений не знаю' );\n",
    "}"
   ]
  },
  {
   "cell_type": "markdown",
   "metadata": {},
   "source": [
    " ## Класи"
   ]
  },
  {
   "cell_type": "markdown",
   "metadata": {},
   "source": [
    "Класи в мові Javascript були доданы тыльки в ES6, до цього використовувалос прототипне наслыдування та конструктори\n"
   ]
  },
  {
   "cell_type": "code",
   "execution_count": 34,
   "metadata": {},
   "outputs": [
    {
     "name": "stdout",
     "output_type": "stream",
     "text": [
      "0\n",
      "Vowpal Wabbit бежит, скорость 2\n",
      "Vowpal Wabbit прыгает, скорость 3\n"
     ]
    },
    {
     "data": {
      "text/plain": [
       "3"
      ]
     },
     "execution_count": 34,
     "metadata": {},
     "output_type": "execute_result"
    }
   ],
   "source": [
    "// 1. Конструктор Animal\n",
    "function Animal(name) {\n",
    "  this.name = name;\n",
    "  this.speed = 0;\n",
    "}\n",
    "\n",
    "// 1.1. Методы -- в прототип\n",
    "\n",
    "Animal.prototype.stop = function() {\n",
    "  this.speed = 0;\n",
    "  console.log( this.name + ' стоит' );\n",
    "}\n",
    "\n",
    "Animal.prototype.run = function(speed) {\n",
    "  this.speed += speed;\n",
    "  console.log( this.name + ' бежит, скорость ' + this.speed );\n",
    "};\n",
    "\n",
    "// 2. Конструктор Rabbit\n",
    "function Rabbit(name) {\n",
    "  this.name = name;\n",
    "  this.speed = 0;\n",
    "  console.log(this.speed);\n",
    "}\n",
    "\n",
    "// 2.1. Наследование\n",
    "Rabbit.prototype = Object.create(Animal.prototype);\n",
    "Rabbit.prototype.constructor = Rabbit;\n",
    "\n",
    "// 2.2. Методы Rabbit\n",
    "Rabbit.prototype.jump = function() {\n",
    "  this.speed++;\n",
    "  console.log( this.name + ' прыгает, скорость ' + this.speed );\n",
    "}\n",
    "//вызов родительского конструктора\n",
    "//function Rabbit(name) {\n",
    "//  Animal.apply(this, arguments);\n",
    "//}\n",
    "\n",
    "\n",
    "Rabbit.prototype.run = function() {\n",
    "   // вызвать метод родителя, передав ему текущие аргументы\n",
    "   Animal.prototype.run.apply(this, arguments);\n",
    "   this.jump();\n",
    " }\n",
    "var bb = new Rabbit(\"Vowpal Wabbit\");\n",
    "bb.run(2);"
   ]
  },
  {
   "cell_type": "code",
   "execution_count": null,
   "metadata": {},
   "outputs": [],
   "source": [
    "ES6  дає синтаксичний цукор до прототипного наслідування у вигляду класів"
   ]
  },
  {
   "cell_type": "code",
   "execution_count": 1,
   "metadata": {},
   "outputs": [
    {
     "name": "stdout",
     "output_type": "stream",
     "text": [
      "dog makes a noise.\n",
      "dog barks.\n"
     ]
    },
    {
     "data": {
      "text/plain": [
       "'dog'"
      ]
     },
     "execution_count": 1,
     "metadata": {},
     "output_type": "execute_result"
    }
   ],
   "source": [
    "class Animal1 { \n",
    "  constructor(name) {\n",
    "    this.name = name;\n",
    "  }\n",
    "  get howToCall(){\n",
    "      return this.name;\n",
    "  }\n",
    "  speak() {\n",
    "    console.log(this.name + ' makes a noise.');\n",
    "  }\n",
    "}\n",
    "\n",
    "class Dog extends Animal1 {\n",
    "  speak() {\n",
    "    super.speak();  //this way you can call parent method\n",
    "    console.log(this.name + ' barks.');\n",
    "  }\n",
    "}\n",
    "var dog = new Dog('dog');\n",
    "dog.speak();\n",
    "dog.howToCall"
   ]
  },
  {
   "cell_type": "markdown",
   "metadata": {},
   "source": [
    "### Детальніше про ES6  класи \n",
    "\n",
    "https://developer.mozilla.org/uk/docs/Web/JavaScript/Reference/Classes"
   ]
  },
  {
   "cell_type": "markdown",
   "metadata": {},
   "source": []
  }
 ],
 "metadata": {
  "kernelspec": {
   "display_name": "Javascript (Node.js)",
   "language": "javascript",
   "name": "javascript"
  },
  "language_info": {
   "file_extension": ".js",
   "mimetype": "application/javascript",
   "name": "javascript",
   "version": "8.11.2"
  }
 },
 "nbformat": 4,
 "nbformat_minor": 2
}
