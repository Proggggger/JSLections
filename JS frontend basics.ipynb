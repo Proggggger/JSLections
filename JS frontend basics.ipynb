{
 "cells": [
  {
   "cell_type": "markdown",
   "metadata": {},
   "source": [
    "# Основи клієнтського Javascript"
   ]
  },
  {
   "cell_type": "markdown",
   "metadata": {},
   "source": [
    "Для експерименту запустимо простий веб-сервер який буде віддавати веб сторінку та необхідні нам скриптові файли. для передачі статичних файлів додамо виклик **_app.use(express.static('public'));_** - який зробить директорію pulic шляхом за замовчуванням для отримання статичних файлів до яких ми звертатимемося за адресою вебсервера.\n",
    "\n",
    "Вебсторінка знаходиться у файлі index.html\n",
    "\n",
    "Скрипт - у файлі public/index.js"
   ]
  },
  {
   "cell_type": "code",
   "execution_count": 1,
   "metadata": {},
   "outputs": [
    {
     "data": {
      "text/plain": [
       "Server {\n",
       "  domain: null,\n",
       "  _events: \n",
       "   { request: \n",
       "      { [EventEmitter: app]\n",
       "        domain: undefined,\n",
       "        _events: [Object],\n",
       "        _maxListeners: undefined,\n",
       "        setMaxListeners: [Function: setMaxListeners],\n",
       "        getMaxListeners: [Function: getMaxListeners],\n",
       "        emit: [Function: emit],\n",
       "        addListener: [Function: addListener],\n",
       "        on: [Function: addListener],\n",
       "        prependListener: [Function: prependListener],\n",
       "        once: [Function: once],\n",
       "        prependOnceListener: [Function: prependOnceListener],\n",
       "        removeListener: [Function: removeListener],\n",
       "        removeAllListeners: [Function: removeAllListeners],\n",
       "        listeners: [Function: listeners],\n",
       "        listenerCount: [Function: listenerCount],\n",
       "        eventNames: [Function: eventNames],\n",
       "        init: [Function: init],\n",
       "        defaultConfiguration: [Function: defaultConfiguration],\n",
       "        lazyrouter: [Function: lazyrouter],\n",
       "        handle: [Function: handle],\n",
       "        use: [Function: use],\n",
       "        route: [Function: route],\n",
       "        engine: [Function: engine],\n",
       "        param: [Function: param],\n",
       "        set: [Function: set],\n",
       "        path: [Function: path],\n",
       "        enabled: [Function: enabled],\n",
       "        disabled: [Function: disabled],\n",
       "        enable: [Function: enable],\n",
       "        disable: [Function: disable],\n",
       "        acl: [Function],\n",
       "        bind: [Function],\n",
       "        checkout: [Function],\n",
       "        connect: [Function],\n",
       "        copy: [Function],\n",
       "        delete: [Function],\n",
       "        get: [Function],\n",
       "        head: [Function],\n",
       "        link: [Function],\n",
       "        lock: [Function],\n",
       "        'm-search': [Function],\n",
       "        merge: [Function],\n",
       "        mkactivity: [Function],\n",
       "        mkcalendar: [Function],\n",
       "        mkcol: [Function],\n",
       "        move: [Function],\n",
       "        notify: [Function],\n",
       "        options: [Function],\n",
       "        patch: [Function],\n",
       "        post: [Function],\n",
       "        propfind: [Function],\n",
       "        proppatch: [Function],\n",
       "        purge: [Function],\n",
       "        put: [Function],\n",
       "        rebind: [Function],\n",
       "        report: [Function],\n",
       "        search: [Function],\n",
       "        source: [Function],\n",
       "        subscribe: [Function],\n",
       "        trace: [Function],\n",
       "        unbind: [Function],\n",
       "        unlink: [Function],\n",
       "        unlock: [Function],\n",
       "        unsubscribe: [Function],\n",
       "        all: [Function: all],\n",
       "        del: [Function],\n",
       "        render: [Function: render],\n",
       "        listen: [Function: listen],\n",
       "        request: [Object],\n",
       "        response: [Object],\n",
       "        cache: {},\n",
       "        engines: {},\n",
       "        settings: [Object],\n",
       "        _eventsCount: 1,\n",
       "        locals: [Object],\n",
       "        mountpath: '/',\n",
       "        _router: [Object] },\n",
       "     connection: [Function: connectionListener] },\n",
       "  _eventsCount: 2,\n",
       "  _maxListeners: undefined,\n",
       "  _connections: 0,\n",
       "  _handle: \n",
       "   TCP {\n",
       "     reading: false,\n",
       "     owner: [Circular],\n",
       "     onread: null,\n",
       "     onconnection: [Function: onconnection],\n",
       "     writeQueueSize: 0 },\n",
       "  _usingSlaves: false,\n",
       "  _slaves: [],\n",
       "  _unref: false,\n",
       "  allowHalfOpen: true,\n",
       "  pauseOnConnect: false,\n",
       "  httpAllowHalfOpen: false,\n",
       "  timeout: 120000,\n",
       "  keepAliveTimeout: 5000,\n",
       "  _pendingResponseData: 0,\n",
       "  maxHeadersCount: null,\n",
       "  _connectionKey: '6::::3000',\n",
       "  [Symbol(asyncId)]: 9 }"
      ]
     },
     "execution_count": 1,
     "metadata": {},
     "output_type": "execute_result"
    },
    {
     "name": "stdout",
     "output_type": "stream",
     "text": [
      "../index2.html\n",
      "../index2.html\n",
      "../index2.html\n",
      "../index2.html\n",
      "../index2.html\n",
      "../index2.html\n",
      "../index2.html\n",
      "../index2.html\n",
      "../index2.html\n",
      "../index2.html\n",
      "../index2.html\n",
      "../index2.html\n",
      "../index2.html\n",
      "../index2.html\n",
      "../index2.html\n",
      "../index2.html\n",
      "../index2.html\n",
      "../index2.html\n",
      "../index2.html\n",
      "../index2.html\n",
      "../index2.html\n",
      "../index2.html\n",
      "../index2.html\n",
      "../index2.html\n",
      "../index2.html\n",
      "../index.html\n"
     ]
    }
   ],
   "source": [
    "var express = require('express');\n",
    "var app = express();\n",
    "var path = require('path');\n",
    "\n",
    "app.disable('view cache');\n",
    "app.use(express.static('public'));\n",
    "app.get('/', function(req, res) {\n",
    "    console.log(path.join(__dirname + './index.html'))\n",
    "    res.sendFile(path.join(__dirname + '/index.html'), { root: __dirname });\n",
    "});\n",
    "app.get('/index2', function(req, res) {\n",
    "    console.log(path.join(__dirname + './index2.html'))\n",
    "    res.sendFile(path.join(__dirname + '/index2.html'), { root: __dirname });\n",
    "});\n",
    "\n",
    "app.listen(3000);"
   ]
  },
  {
   "cell_type": "markdown",
   "metadata": {},
   "source": [
    "Підключення скрипта о вебсторінки відбувається таким тегом"
   ]
  },
  {
   "cell_type": "raw",
   "metadata": {},
   "source": [
    "<script src=\"/index.js\"></script>"
   ]
  },
  {
   "cell_type": "markdown",
   "metadata": {},
   "source": [
    "кількість таких тегів не обмежена, виконуються скрипти в порядку підключення, (при цьому рекомендується підключати скрипти в кінці вебсторінки, оскільки завантаження скрипта може зайняти певний час, впродовж якого сторінка буде очікувати завантаження скрипта)"
   ]
  },
  {
   "cell_type": "markdown",
   "metadata": {},
   "source": [
    "також можна замість підключення файла скрипта написати невеликий скрипт всередині тега"
   ]
  },
  {
   "cell_type": "raw",
   "metadata": {},
   "source": [
    "<script>\n",
    "    alert(\"this is test inline script\");\n",
    "</script> "
   ]
  },
  {
   "cell_type": "markdown",
   "metadata": {},
   "source": [
    "Але таке використання тега знижує читабельнысть та зрозумілість коду, тому його використання не рукомендується у більшості випадків, хоча й допустиме для невеиких скриптів"
   ]
  },
  {
   "cell_type": "markdown",
   "metadata": {},
   "source": [
    "## Слід зазначити що набір доступних об’єктів в браузері відрізняється від об’єктів доступних в nodeJS!!!!!\n",
    "\n",
    "### Консоль для на яку буде друкуватися текст знаходиться в \"інструментах розробника\" браузера, і використовується в основному для виведення помилок або відлагодження\n",
    "\n",
    "Одним з корньових об’єктів для взаємодії з DOM є об’єкт **window** що представляє вікно браузера. одним із методів цього об’єкта що використовується найчастіше є метод **onload**  що приймає колбек який виконається коли вікно зі стоінкою буде повністю завантажене (гарантує що код не буде виконаний коли сторінка не встигла завантажитися)\n",
    "\n",
    "Також **window** містить об’єкт  **document** що представляє документ і більша частина взаємодії з документом відбувається саме через цей об’єкт.\n",
    "\n"
   ]
  },
  {
   "cell_type": "markdown",
   "metadata": {},
   "source": [
    "найпростіший спосіб зв’язати скрипт з обєктами веб-сторінки додати обробник до тега:"
   ]
  },
  {
   "cell_type": "raw",
   "metadata": {},
   "source": [
    "<button onclick=\"alert_title()\">......."
   ]
  },
  {
   "cell_type": "markdown",
   "metadata": {},
   "source": [
    "Як параметр передаємо функцію яку треба викликати, ала функція повинна бути вже об’явленою, інакше виникне помилка."
   ]
  },
  {
   "cell_type": "markdown",
   "metadata": {},
   "source": [
    "детальныше про обробники доступны в HTML коді:\n",
    "\n",
    "https://www.w3schools.com/tags/ref_eventattributes.asp"
   ]
  },
  {
   "cell_type": "markdown",
   "metadata": {},
   "source": [
    "для отримання HTML об’єктів за їх ідентифікатором - метод **Document.getElementById(String id)**"
   ]
  },
  {
   "cell_type": "markdown",
   "metadata": {},
   "source": [
    "також є аналогічні методи для отримання за іменем класу, іменем тегу, та CSS селекторами."
   ]
  },
  {
   "cell_type": "code",
   "execution_count": null,
   "metadata": {},
   "outputs": [],
   "source": []
  }
 ],
 "metadata": {
  "kernelspec": {
   "display_name": "Javascript (Node.js)",
   "language": "javascript",
   "name": "javascript"
  },
  "language_info": {
   "file_extension": ".js",
   "mimetype": "application/javascript",
   "name": "javascript",
   "version": "8.11.2"
  }
 },
 "nbformat": 4,
 "nbformat_minor": 2
}
