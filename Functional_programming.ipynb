{
 "cells": [
  {
   "cell_type": "markdown",
   "metadata": {},
   "source": [
    "### Функціональне програмування"
   ]
  },
  {
   "cell_type": "markdown",
   "metadata": {},
   "source": [
    "Функціональне програмування - парадигма програмування, яка розглядає програму як обчислення математичних функцій та уникає станів та змінних даних. Функційне програмування наголошує на застосуванні функцій, на відміну від імперативного програмування, яке наголошує на змінах в стані та виконанні послідовностей команд.\n",
    "\n",
    "Іншими словами, функційне програмування є способом створення програм, в яких єдиною дією є виклик функції, єдиним способом розбиття програми є створення нового імені функції та задання для цього імені виразу, що обчислює значення функції, а єдиним правилом композиції є оператор суперпозиції функцій. Жодних комірок пам'яті, операторів присвоєння, циклів, ні, тим більше, блок-схем чи передачі управління."
   ]
  },
  {
   "cell_type": "markdown",
   "metadata": {},
   "source": [
    "https://www.youtube.com/watch?v=FYXpOjwYzcs"
   ]
  },
  {
   "cell_type": "code",
   "execution_count": null,
   "metadata": {},
   "outputs": [],
   "source": [
    "Немного моментов из ES6"
   ]
  },
  {
   "cell_type": "code",
   "execution_count": 1,
   "metadata": {},
   "outputs": [
    {
     "name": "stdout",
     "output_type": "stream",
     "text": [
      "true\n",
      "true\n",
      "true\n"
     ]
    }
   ],
   "source": [
    "const lang =[\"Javascript\", \"Ruby\", \"Haskell\"];\n",
    "const [js, ...rest] = lang\n",
    "\n",
    "console.log(js ===\"Javascript\");\n",
    "console.log(rest[0] ===\"Ruby\");\n",
    "console.log(rest[1] ===\"Haskell\");\n"
   ]
  },
  {
   "cell_type": "code",
   "execution_count": 3,
   "metadata": {},
   "outputs": [],
   "source": [
    "const head = ([x])=>x;"
   ]
  },
  {
   "cell_type": "code",
   "execution_count": 4,
   "metadata": {},
   "outputs": [
    {
     "data": {
      "text/plain": [
       "1"
      ]
     },
     "execution_count": 4,
     "metadata": {},
     "output_type": "execute_result"
    }
   ],
   "source": [
    "head([1,3,5,2]);"
   ]
  },
  {
   "cell_type": "markdown",
   "metadata": {},
   "source": [
    "Не функціональный підхід - оскільки результат залежить від глобального стану.\n",
    "\n",
    "(код обернений в функцію test щоб не викликати помилку через перевизначення змінної )"
   ]
  },
  {
   "cell_type": "code",
   "execution_count": 13,
   "metadata": {},
   "outputs": [
    {
     "name": "stdout",
     "output_type": "stream",
     "text": [
      "JEREMY\n"
     ]
    }
   ],
   "source": [
    "var test = function (){\n",
    "    \n",
    "    \n",
    "    \n",
    "let name  = 'Jeremy';\n",
    "const getName = ()=>name;\n",
    "const setName = (newName) =>{\n",
    "    name=newName;\n",
    "}\n",
    "const printUpperName = ()=>{\n",
    "    console.log(name.toUpperCase());\n",
    "}\n",
    "\n",
    "\n",
    "\n",
    "printUpperName();\n",
    "}\n",
    "test()"
   ]
  },
  {
   "cell_type": "markdown",
   "metadata": {},
   "source": [
    "В даному випадку **upperName** не залежить від глобального стану і відповідає функціональному підходу"
   ]
  },
  {
   "cell_type": "code",
   "execution_count": 17,
   "metadata": {},
   "outputs": [
    {
     "name": "stdout",
     "output_type": "stream",
     "text": [
      "JEREMY\n"
     ]
    }
   ],
   "source": [
    "var test = function (){\n",
    "\n",
    "\n",
    "const upperName = (name) => name.toUpperCase();\n",
    "console.log(upperName('Jeremy'));\n",
    "    \n",
    "    \n",
    "}\n",
    "test()"
   ]
  },
  {
   "cell_type": "code",
   "execution_count": null,
   "metadata": {},
   "outputs": [],
   "source": []
  }
 ],
 "metadata": {
  "kernelspec": {
   "display_name": "Javascript (Node.js)",
   "language": "javascript",
   "name": "javascript"
  },
  "language_info": {
   "file_extension": ".js",
   "mimetype": "application/javascript",
   "name": "javascript",
   "version": "8.11.2"
  }
 },
 "nbformat": 4,
 "nbformat_minor": 2
}
